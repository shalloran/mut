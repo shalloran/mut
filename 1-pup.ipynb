{
 "cells": [
  {
   "cell_type": "markdown",
   "metadata": {},
   "source": [
    "# PUP Part 1: dataset building, preprocessing data, and training some intro models"
   ]
  },
  {
   "cell_type": "markdown",
   "metadata": {},
   "source": [
    "PUP = processing URL pipeline"
   ]
  },
  {
   "cell_type": "markdown",
   "metadata": {},
   "source": [
    "## Part 1 of this notebook series takes in the massive conglom dataset constructed from various known ad, tracking, phishing, and malware domain lists."
   ]
  },
  {
   "cell_type": "markdown",
   "metadata": {},
   "source": [
    "## Then, as described in: `Lin, M.-S., et al.: Malicious URL filtering- a big data application. IEEE International Conference on Big Data (2013)` we are going to extract features from URLs for use in training decision trees and possible random forests."
   ]
  },
  {
   "cell_type": "markdown",
   "metadata": {},
   "source": [
    "* Please note that while I am citing the work above, and I used many of their features, their code was not available online. So this is my own implementation. I have also added features that were not existent in the `Lin 2013` paper."
   ]
  },
  {
   "cell_type": "markdown",
   "metadata": {},
   "source": [
    "## Finally, we train a decision tree and look at feature importance briefly, just to get a sense for what is going on here. This pipeline is the result of a lot of work and tweaking, not all of which is shown in line."
   ]
  },
  {
   "cell_type": "markdown",
   "metadata": {},
   "source": [
    "### Updated, for Part 4 of this notebook (training a GPT model from scratch) see `4-pup-gpt2.ipynb`"
   ]
  },
  {
   "cell_type": "markdown",
   "metadata": {},
   "source": [
    "### To set up the conda environment, run the following command:\n",
    "`conda create --name mut-environment jupyterlab numpy pandas matplotlib torch scikit-learn transformers joblib`"
   ]
  },
  {
   "cell_type": "code",
   "execution_count": 6,
   "metadata": {},
   "outputs": [],
   "source": [
    "import joblib\n",
    "import json\n",
    "import matplotlib.pyplot as plt\n",
    "import numpy as np\n",
    "import pandas as pd\n",
    "import pickle\n",
    "import re\n",
    "import torch\n",
    "import torch.nn.functional as F\n",
    "from sklearn.metrics import accuracy_score\n",
    "from sklearn.model_selection import train_test_split\n",
    "from sklearn.preprocessing import LabelEncoder\n",
    "from sklearn.tree import DecisionTreeClassifier\n",
    "from torch.utils.data import DataLoader, Dataset\n",
    "from transformers import DataCollatorWithPadding, GPT2ForSequenceClassification, GPT2Tokenizer, Trainer, TrainingArguments\n",
    "from urllib.parse import urlparse"
   ]
  },
  {
   "cell_type": "markdown",
   "metadata": {},
   "source": [
    "Step 1: Lexical features extraction: split URLs into components, apply a sliding window to the domain, and use a bag-of-words model to describe each component."
   ]
  },
  {
   "cell_type": "code",
   "execution_count": 7,
   "metadata": {},
   "outputs": [],
   "source": [
    "def lexicalFE(url): #lexical feature extraction fn - takes in a URL\n",
    "    if not urlparse(url).scheme:\n",
    "        url = 'http://' + url  # prepend with default scheme\n",
    "    \n",
    "    try:\n",
    "        parsedURL = urlparse(url)\n",
    "        domain = parsedURL.netloc\n",
    "        path = parsedURL.path\n",
    "        query = parsedURL.query\n",
    "        domainNoPrefix = domain.replace('www.', '')\n",
    "        features = {\n",
    "            'domain': domain,\n",
    "            'domainNoPrefix': domainNoPrefix,\n",
    "            'domainLength': len(domain),\n",
    "            'pathLength': len(path),\n",
    "            'queryLength': len(query),\n",
    "            'numPathComponents': len(path.split('/')) - 1,  # sub 1 b/c leading '/' results in an empty string at the start\n",
    "            'numQueryComponents': len(query.split('&')) if query else 0,  # only count if there's a query\n",
    "            'hasDigitsInDomain': any(char.isdigit() for char in domain),\n",
    "            'hasDigitsInPath': any(char.isdigit() for char in path),\n",
    "            'hasDigitsInQuery': any(char.isdigit() for char in query)\n",
    "        }\n",
    "        return features\n",
    "    except ValueError as e: #handle errors TODO: more here\n",
    "        print(f\"Error processing URL {url}: {e}\")\n",
    "        return {}"
   ]
  },
  {
   "cell_type": "markdown",
   "metadata": {},
   "source": [
    "Step 2: descriptive features extraction - this function will further split the path component, remove common prefixes and TLDs, and calc stats"
   ]
  },
  {
   "cell_type": "code",
   "execution_count": 8,
   "metadata": {},
   "outputs": [],
   "source": [
    "def descriptiveFE(url): # desc. feature extraction fn - takes in a URL\n",
    "    parsedURL = urlparse(url)\n",
    "    domain = parsedURL.netloc.replace('www.', '')  # Remove common prefix\n",
    "    path = parsedURL.path\n",
    "    query = parsedURL.query\n",
    "    path_components = path.split('/') # further split the path\n",
    "    filename = path_components[-1] if '.' in path_components[-1] else None\n",
    "    fileBool = 1 if filename else 0\n",
    "    file_extension = filename.split('.')[-1] if filename else None\n",
    "    features = {\n",
    "        'domainLength': len(domain),\n",
    "        'pathLength': len(path),\n",
    "        'queryLength': len(query),\n",
    "        'numPathComponents': len(path_components),\n",
    "        'filename': filename,\n",
    "        'fileNamePresent': fileBool,\n",
    "        'fileExtension': file_extension,\n",
    "        'isIpAdress': bool(re.match(r'^\\d{1,3}(\\.\\d{1,3}){3}$', domain)),\n",
    "        'fileExecutable': file_extension in ['exe', 'bin', 'bat']\n",
    "    }\n",
    "    return features"
   ]
  },
  {
   "cell_type": "markdown",
   "metadata": {},
   "source": [
    "Step 3: integrate and test"
   ]
  },
  {
   "cell_type": "code",
   "execution_count": 9,
   "metadata": {},
   "outputs": [
    {
     "name": "stdout",
     "output_type": "stream",
     "text": [
      "URL: https://www.example.org/bin.exe?arg=value\n",
      "Lexical Features: {'domain': 'www.example.org', 'domainNoPrefix': 'example.org', 'domainLength': 15, 'pathLength': 8, 'queryLength': 9, 'numPathComponents': 1, 'numQueryComponents': 1, 'hasDigitsInDomain': False, 'hasDigitsInPath': False, 'hasDigitsInQuery': False}\n",
      "Descriptive Features: {'domainLength': 11, 'pathLength': 8, 'queryLength': 9, 'numPathComponents': 2, 'filename': 'bin.exe', 'fileNamePresent': 1, 'fileExtension': 'exe', 'isIpAdress': False, 'fileExecutable': True}\n",
      "\n",
      "\n",
      "URL: http://blog.example.com:443/executable.exe?arg=test123\n",
      "Lexical Features: {'domain': 'blog.example.com:443', 'domainNoPrefix': 'blog.example.com:443', 'domainLength': 20, 'pathLength': 15, 'queryLength': 11, 'numPathComponents': 1, 'numQueryComponents': 1, 'hasDigitsInDomain': True, 'hasDigitsInPath': False, 'hasDigitsInQuery': True}\n",
      "Descriptive Features: {'domainLength': 20, 'pathLength': 15, 'queryLength': 11, 'numPathComponents': 2, 'filename': 'executable.exe', 'fileNamePresent': 1, 'fileExtension': 'exe', 'isIpAdress': False, 'fileExecutable': True}\n",
      "\n",
      "\n"
     ]
    }
   ],
   "source": [
    "urls = ['https://www.example.org/bin.exe?arg=value', 'http://blog.example.com:443/executable.exe?arg=test123']\n",
    "\n",
    "for url in urls:\n",
    "    print(f\"URL: {url}\")\n",
    "    lexFeats = lexicalFE(url) # lexical features\n",
    "    descFeats = descriptiveFE(url) # descriptive features\n",
    "    print(\"Lexical Features:\", lexFeats)\n",
    "    print(\"Descriptive Features:\", descFeats)\n",
    "    print(\"\\n\")"
   ]
  },
  {
   "cell_type": "code",
   "execution_count": 10,
   "metadata": {},
   "outputs": [],
   "source": [
    "df = pd.read_csv('./datasets/conglom-labeled.csv', names=['URL', 'Classification'])"
   ]
  },
  {
   "cell_type": "markdown",
   "metadata": {},
   "source": [
    "Apply lexical and descriptive feature extraction"
   ]
  },
  {
   "cell_type": "code",
   "execution_count": 11,
   "metadata": {},
   "outputs": [
    {
     "name": "stdout",
     "output_type": "stream",
     "text": [
      "Error processing URL http://RybjUx\u0018Ùãl5»7ÆE%Ý\u0014Ôk+h\u001f\u000f|U\u001a\u0007+ýk©ìÉ½Æq]âF·õÁ¢w)ëA·ç\u000f°{t*m!¦2\u0003: Invalid IPv6 URL\n",
      "Error processing URL http://Æe\u001eF§÷%\u0011¶\u001c¿Õ½9¿b@Ö¸ÚZE¤ÒC¢ÄÅª2åç-]W³fU¤\u001eJgkz.ø¿nJçå\u0014æuøD%@ðû\u000fÇùM¹u\u000bË: Invalid IPv6 URL\n",
      "Error processing URL http://Ó6¸RTÃ\u0006u\u000f~æ\fÙ\u001dg0>÷mÖi\u0012Ó=;XZ\\%êýÜ\u0005Éfn&\\°%7õÉ\"ieÖ\u000f\u00161ÄÁêFÐò\u0017<\u0018$cï6t[0ò2\"/Æa^2â\u001fpù/ýãÇ$E¬R«È²ú\u0006[Ì¶p\u001f¥qÒ°i°^ò[»³»]±9êdÓS¿Ë]ùþ5j¿·ªocÂplà7Ê\u000bÏJ§¢#3\u001bðDCD\u0012\u0002õ²çÇ\u0017GÝ.Vò=¿QB§Ä'`ÊáZÉê Ô\u0010îÆm®ÍÝQÓ(z;¹\u001bÁ\u0003ê¬âyt\u001bÖ\u0007Ù®ëNP²ÜEQ: Invalid IPv6 URL\n",
      "Error processing URL http://oÍÑOwEu\u001aÊÚ\u0007Ãß=nËß[j{2%.tñ\u0017ø­½½qx½NºPmx$Aì&ÝIhÂéc¶A9®c\u0002ì3ßyiÚý~\u0006\u0006JÍf]$ö M\u001f¸°;\u0002\u0017x\u001fÃu0IÅ@xõe^\u0001cÃ ¸´ÞO7\u0002B~FrØ\\<kÅb{T!Ì\u000bé\tr?kX-Y\u0017ÇS@\u0005T)LeaÃ}°¡ùï4ºkïá2¢kEì\u0015¬ôfsçË×Û\u0011\u0018Qìê\u0018{o£UÜ§D©\u000e\u0002l½±±äâqôó¼-â\u001b0\u001aèÙ¦kvîdàQÎé6°Ò¼©: 'j{2%.tñ\\x9c\\x17ø\\x91\\xad½½qx½NºPmx$Aì&\\x9eÝ\\x88\\x9bIh\\x8e\\x80Âéc¶A9®c\\x90\\x02ì3ßyiÚ\\x9a\\x8cý~\\x88\\x06\\x06JÍf' does not appear to be an IPv4 or IPv6 address\n",
      "Error processing URL http://µÔA¨!ÝÛ=]º£¦Pôwr7\u001f2\u0007-ÕY5Äòè7¬\u000f-³]×)&¡\u001fe¸\u001c¢\u0014À6R\u0018D­NvY¨Ð«Ñ3Â¸%Qñ+Û\u0010È¸\u0003\u0012$¶gz{þ: Invalid IPv6 URL\n",
      "Error processing URL http://¨RÊÃûaCóÞit×ßÂe-DÖØ+9YèÌçÏ¯·\u0004\"0£ÙÕ.0ößF«7¹NR\u001c\u0004Ù{ccÉÄãéçx[Ä6a\u001a5Ñ³LÖíÜÉÀ£Òma¥yRX\u0003*0ÅÝ7×ÊÁÌ\u0005\u0005o«Õs¶0kdèÑ&\u001cÄ\u0010\"Ï¨mZ'àDM×ñ\u0001XÚÒK\"päî±h¬cAÊeK@4r\"^'ÓFþ1*Ë\u001dË PÞô;õ$úàÑ@þ=êWÑ\"Ãhñ\u0005\u0018®ç^\u0018\u0011«Ýó^ç\u001a\u001fRúUJ\u0014.<6C\u0019y\u001aÜFØrÿV2ôæý\u0003Zãii\u0016I\u000eb;\u0013\u0016¨Ëµu^ÍVy)­è»âýº\u0001+SÖ\u001e\u0017á\u0010\u0003Ãì?\u001få6åÔ/: Invalid IPv6 URL\n",
      "Error processing URL http://\u0010H\u000bÖË\u001c]\u001ft¹[ÈöýE: 'ÈöýE' does not appear to be an IPv4 or IPv6 address\n",
      "Error processing URL http://1]Î¼0#W»æ½Î4>¥õ\u001cª(\\xl3(ò5?¹(°åþ¬eéÍû\u0012\u0006µÆÒÒ-&\u001d\u0014Äv&-Q/9jê½2­ òS;[ÑwÅût\u0002W?(§3¬</Â!*\u0007Ø~?ÊmË¨^XV¹µÂ¦\u00183¨|[÷4\u0010fÈë<\tô·»n³HéÜúÂÒá/Wîà.K3q4:å)¿®I\u0013K.°x±&\u000fR6¹àÄ\u0001#\u001f|9³¢Üùñ\u0014\u0019~3: Invalid IPv6 URL\n",
      "Error processing URL http://G] 8:°º:©\u0006×Å&|\u0017p+\u001f\u001a=Q[&ü\u001eW¦'ñE_\u0018d\u0017Ú\f\u0015\u0014¢rÄÔ«â1³ÄØk~n{º+¨ÖVÐ>\u001eùëtÎ^úÛSÙ)s§à¿ÄmíëÅêuÒkÁ\"\u000fa4öìDÚKDt\u0006\u0017K\u001d²\tÍs\u001c\u0017aûËNÔÔgëô@02Vk2é'±\u0002hýÅñØ\u0010»Àþ\u001b©L*\u0003Ç¬K*ð\f\u001cn\u001d\u0005Å¦òy¸\u0012\u0013ôb3þÂáã^+\u0013Ú¡\u000edh_HKüûZÁjÈ¾:\u0004óø*¡Jc+\u000e\u001bí\u000fÏy¥Ó_\tµ\u0013Z/`¬åg£3>^¾Ü\u0010ÂgT¸ÃÛ}\u001a¬Þå:%Hp\u0013eí'\u0013§áo\u0010Ùh×FÍ3[·s'\u0002wIµåI`\u000eh¨Ã\u0017tß_*\u000f\u00070\u0014\u0015¾¯UÎÚ4Á®A£D\fs\u0010@>¡µh\u0012=7_Ä\u0005ckI: '&ü\\x99\\x1eW¦\\'ñE_\\x99\\x83\\x18\\x84d\\x17Ú\\x92\\x0c\\x15\\x14¢rÄÔ«â1³ÄØk~n\\x8c\\x8a{º+¨ÖVÐ>\\x1eùëtÎ^úÛSÙ\\x91)s§\\x8cà¿Ä\\x8dmíë\\x8bÅêuÒ\\x83kÁ\"\\x0fa4öìDÚKDt\\x06\\x17K\\x1d²Ís\\x1c\\x80\\x17a\\x9eûËNÔÔgëô@02Vk2é\\'±\\x02hýÅ\\x84ñØ\\x10»Àþ\\x1b©\\x82L\\x9e*\\x03Ç¬K*ð\\x0c\\x84\\x9b\\x1cn\\x1d\\x05Å¦òy¸\\x12\\x13ôb3\\x93þÂáã^+\\x13Ú¡\\x0edh_HK\\x91üûZÁjÈ¾:\\x9a\\x04óø*¡Jc+\\x0e\\x1bí\\x85\\x0fÏy¥Ó_\\x7f\\x94µ\\x13Z' does not appear to be an IPv4 or IPv6 address\n",
      "Error processing URL http://k¥¤ZM$:)ìLZ£.^rÕÕ{6eZAä¦v·¢ïöè\u0004®~QNgXx_BT\u000f\u000f°üÛP¼°­9sk%L0gPø·îh ÍÖx\u0013\u0003éovÝf-3Ó¹õ¥Â^¯ÝÀ\\fâhuË\u0002S\\&]`ñc\u001cL\u001e¤m\u000f!sÁ\u0002F>øsgE¹\u0013\u000f)ó)â(2üf\u0015ã).!÷\u000fÿÞ<rDZÅ*¼/ e¼Ëh\u0001úW\u001d+\u0006\u0005ï%»»;µÛ\u0013¦M5;ù\\¸¥ßãV«û°z¦ö9Ì'\u0006Î\u0003| ¼ôªz\"8#1¿\u0004D4A /[.|qt}Òåo#Ûõ\u0014*|Bv\f®\u0018U¬¢: Invalid IPv6 URL\n",
      "Error processing URL http://A\u000eìfÙêìÝÕ\u001d2£»¸ü\u00199nªÉ®'A½`ymî¹èDéIû-ÄXå\u0010¦\u0001²Â%js²ÍD^^\u0015Á*^ÜD-À\u0018%³;Óßñg\\8+±Wnn@¾IßBëC[³3S7M(úJzª6¥\u0018HmÒ)fæ(\u0001þ\u0017i\u001e\u0013¡d \u0016ùp: Invalid IPv6 URL\n",
      "Error processing URL http://½\u0013<+U\u001f\u0012½¹1\f[1\"Kfw§¿âÎ¸pWb®ÜÜ\u0007|¾Ö\u0018·ff¦o6QõFõTmK&0Û¤RÍÌP\u0003ü.Ò<'BÉ@-ó\u001aàYN\u0001\\¦~7J¡*Èú=ÙU ^>R~@O·: Invalid IPv6 URL\n",
      "Error processing URL http://\u0013^o\u0014ð]Â|¬|hõElòdy^Å\u0015~f\fb\u0011_jH0TRË\u0013R¯ÆÏ\u0013a­ùº2)îè®£Y[@ø{ç­Ó9{ëmOfD¥Î3ÿ\u00125··®/\u0017©×J: '@ø{ç\\xadÓ9{ëmOfD¥Î\\x9e3\\x82ÿ\\x125··®' does not appear to be an IPv4 or IPv6 address\n",
      "Error processing URL http://¯\u0004=ÓÛ±\u0013i-\u0011Ð\u0018]: Invalid IPv6 URL\n",
      "Error processing URL http://=Rã\u000fmôj³{è!ÀM¶6<N>w¼Cf\u0011£]\u001b4ÍnÝÌ: Invalid IPv6 URL\n",
      "Error processing URL http://9Ý&Ö\u001aW%9¢£\f]Ó}|¨<\u001cÀPVú½W;hÓ\u0006¹\u0006N\u0012h1ÌA\u0002: Invalid IPv6 URL\n",
      "Error processing URL http://òóÒ©èàÆü\u0011\u0010Ñ\u0004½l¹ñÅÑ÷K¼oÔP©ñ\tØ2¸aV²z5\u0004;±g«³wTtÊ\u001eîFãðf@åº«&¸]\u0006õå¶kºç¡\u0013¥$Ô#ì·\u0011cB\u0006Ê©ÎË5\u0011z\u0015z&xW\u0004ª>%{rb\u0019\u0010·: Invalid IPv6 URL\n",
      "URL                                                        0024ad98dd.com\n",
      "Classification                                                        ads\n",
      "Lexical_Features        {'domain': '0024ad98dd.com', 'domainNoPrefix':...\n",
      "Descriptive_Features    {'domainLength': 0, 'pathLength': 14, 'queryLe...\n",
      "Name: 2, dtype: object\n"
     ]
    }
   ],
   "source": [
    "df['Lexical_Features'] = df['URL'].apply(lambda x: lexicalFE(x))\n",
    "df['Descriptive_Features'] = df['URL'].apply(lambda x: descriptiveFE(x))\n",
    "testIndex = 2\n",
    "print(df.iloc[testIndex])"
   ]
  },
  {
   "cell_type": "code",
   "execution_count": 12,
   "metadata": {},
   "outputs": [
    {
     "name": "stdout",
     "output_type": "stream",
     "text": [
      "Lexical Features for row 2:\n",
      "{\n",
      "    \"domain\": \"0024ad98dd.com\",\n",
      "    \"domainNoPrefix\": \"0024ad98dd.com\",\n",
      "    \"domainLength\": 14,\n",
      "    \"pathLength\": 0,\n",
      "    \"queryLength\": 0,\n",
      "    \"numPathComponents\": 0,\n",
      "    \"numQueryComponents\": 0,\n",
      "    \"hasDigitsInDomain\": true,\n",
      "    \"hasDigitsInPath\": false,\n",
      "    \"hasDigitsInQuery\": false\n",
      "}\n",
      "\n",
      "Descriptive Features for row 2:\n",
      "{\n",
      "    \"domainLength\": 0,\n",
      "    \"pathLength\": 14,\n",
      "    \"queryLength\": 0,\n",
      "    \"numPathComponents\": 1,\n",
      "    \"filename\": \"0024ad98dd.com\",\n",
      "    \"fileNamePresent\": 1,\n",
      "    \"fileExtension\": \"com\",\n",
      "    \"isIpAdress\": false,\n",
      "    \"fileExecutable\": false\n",
      "}\n",
      "\n"
     ]
    }
   ],
   "source": [
    "row_index = testIndex \n",
    "lexical_features_str = json.dumps(df.at[row_index, 'Lexical_Features'], indent=4)\n",
    "descriptive_features_str = json.dumps(df.at[row_index, 'Descriptive_Features'], indent=4)\n",
    "print(f\"Lexical Features for row {row_index}:\\n{lexical_features_str}\\n\")\n",
    "print(f\"Descriptive Features for row {row_index}:\\n{descriptive_features_str}\\n\")"
   ]
  },
  {
   "cell_type": "markdown",
   "metadata": {},
   "source": [
    "Now, we need to normalize the features and concatenate them with the original dataframe"
   ]
  },
  {
   "cell_type": "code",
   "execution_count": 13,
   "metadata": {},
   "outputs": [],
   "source": [
    "chunk_size = 5000 "
   ]
  },
  {
   "cell_type": "code",
   "execution_count": 14,
   "metadata": {},
   "outputs": [],
   "source": [
    "# instantiate empty dataframe\n",
    "df_final = pd.DataFrame()\n",
    "\n",
    "# process in chunk size defined in previous cell\n",
    "for start in range(0, df.shape[0], chunk_size):\n",
    "    end = min(start + chunk_size, df.shape[0])\n",
    "    df_chunk = df.iloc[start:end].copy()\n",
    "    df_chunk.reset_index(drop=True, inplace=True)\n",
    "    # normalize lexical and descriptive features\n",
    "    lexFeatsDF = pd.json_normalize(df_chunk['Lexical_Features'])\n",
    "    lexFeatsDF.columns = ['Lexical_' + str(col) for col in lexFeatsDF.columns]\n",
    "    descFeatsDF = pd.json_normalize(df_chunk['Descriptive_Features'])\n",
    "    descFeatsDF.columns = ['Descriptive_' + str(col) for col in descFeatsDF.columns]\n",
    "    df_chunk = pd.concat([df_chunk, lexFeatsDF, descFeatsDF], axis=1) #concat normalized feats with chunk\n",
    "    df_final = pd.concat([df_final, df_chunk], axis=0, ignore_index=True) #direct append to final df\n",
    "\n",
    "# drop unnecessary column names\n",
    "df_final.drop(['Lexical_Features', 'Descriptive_Features'], axis=1, inplace=True)"
   ]
  },
  {
   "cell_type": "code",
   "execution_count": 15,
   "metadata": {},
   "outputs": [
    {
     "name": "stdout",
     "output_type": "stream",
     "text": [
      "class mapping: {'ads': np.int64(0), 'benign': np.int64(1), 'defacement': np.int64(2), 'malware': np.int64(3), 'phishing': np.int64(4), 'tracking': np.int64(5)}\n"
     ]
    }
   ],
   "source": [
    "df_final = df_final.drop(1) # drop row 1\n",
    "df_final = df_final.drop(['URL'], axis=1)\n",
    "df_final_columns = df_final.columns.tolist()\n",
    "with open('model_columns.txt', 'w') as f:\n",
    "    f.write('\\n'.join(df_final_columns))\n",
    "df_final = df_final.dropna() #drop rows with missing values\n",
    "catCols = df_final.select_dtypes(include=['object', 'category']).columns\n",
    "# convert categoricals\n",
    "for col in catCols:\n",
    "    # skip the target column 'Classification'\n",
    "    if col == 'Classification':\n",
    "        continue\n",
    "    le = LabelEncoder()\n",
    "    df_final[col] = le.fit_transform(df_final[col])\n",
    "    # save the encoder\n",
    "    joblib.dump(le, './models-checkpoints/categorical_feature_encoder.joblib')\n",
    "\n",
    "# split dataframe into features and target\n",
    "X = df_final.drop('Classification', axis=1)\n",
    "y = df_final['Classification']\n",
    "\n",
    "# convert 'Classification' to numerical vals\n",
    "if y.dtype == 'object' or y.dtype.name == 'category':\n",
    "    le = LabelEncoder()\n",
    "    y = le.fit_transform(y)\n",
    "\n",
    "# split training and testing data\n",
    "X_train, X_test, y_train, y_test = train_test_split(X, y, test_size=0.2, random_state=42)\n",
    "\n",
    "# init / train decision tree\n",
    "dTree = DecisionTreeClassifier(random_state=42)\n",
    "dTree.fit(X_train, y_train)\n",
    "print(f\"class mapping: {dict(zip(le.classes_, le.transform(le.classes_)))}\")"
   ]
  },
  {
   "cell_type": "code",
   "execution_count": 16,
   "metadata": {},
   "outputs": [
    {
     "name": "stdout",
     "output_type": "stream",
     "text": [
      "Accuracy of the Decision Tree model: 0.89\n"
     ]
    }
   ],
   "source": [
    "# predict test set results\n",
    "y_pred = dTree.predict(X_test)\n",
    "accuracy = accuracy_score(y_test, y_pred)\n",
    "print(f\"Accuracy of the Decision Tree model: {accuracy:.2f}\")"
   ]
  },
  {
   "cell_type": "code",
   "execution_count": 17,
   "metadata": {},
   "outputs": [
    {
     "name": "stdout",
     "output_type": "stream",
     "text": [
      "class mapping: {'ads': np.int64(0), 'benign': np.int64(1), 'defacement': np.int64(2), 'malware': np.int64(3), 'phishing': np.int64(4), 'tracking': np.int64(5)}\n",
      "prediction: 5\n"
     ]
    }
   ],
   "source": [
    "# encoder saved from before - training phase\n",
    "encoder = joblib.load('./models-checkpoints/categorical_feature_encoder.joblib')\n",
    "\n",
    "def predictURLClass(url, dTree, df_final_columns):\n",
    "    lexical_features = lexicalFE(url) # feature extraction\n",
    "    descriptive_features = descriptiveFE(url)\n",
    "    all_features = {**lexical_features, **descriptive_features}\n",
    "    features_df = pd.DataFrame([all_features])\n",
    "    for col in df_final_columns: # ensure df matches training data\n",
    "        if col not in features_df.columns:\n",
    "            features_df[col] = 0  # Or another appropriate default value\n",
    "    features_df = features_df[df_final_columns]\n",
    "    features_to_drop = ['URL', 'Classification'] \n",
    "    features_df = features_df.drop(columns=[col for col in features_to_drop if col in features_df.columns], errors='ignore')\n",
    "    prediction = dTree.predict(features_df) #predict\n",
    "    return prediction[0]\n",
    "\n",
    "# Use with caution if you are pasting in real malicious domains\n",
    "# One way to do this could be to set prefix and suffix variables prefix = \"https://www.malicious.com/malware/\"\n",
    "# and suffix = \"access-path-to-malware/secret/there\" just as a silly example\n",
    "url = 'https://mail.google.com/mail/u/0/#inbox'\n",
    "classification = predictURLClass(url, dTree, df_final_columns)\n",
    "print(f\"class mapping: {dict(zip(le.classes_, le.transform(le.classes_)))}\")\n",
    "print(f\"prediction: {classification}\")"
   ]
  },
  {
   "cell_type": "markdown",
   "metadata": {},
   "source": [
    "# Feature importance:"
   ]
  },
  {
   "cell_type": "code",
   "execution_count": 18,
   "metadata": {},
   "outputs": [],
   "source": [
    "feature_importances = dTree.feature_importances_"
   ]
  },
  {
   "cell_type": "code",
   "execution_count": 19,
   "metadata": {},
   "outputs": [],
   "source": [
    "features = [col for col in df_final_columns if col not in ['URL', 'Classification']] \n",
    "feature_importance_dict = dict(zip(features, feature_importances))"
   ]
  },
  {
   "cell_type": "code",
   "execution_count": 20,
   "metadata": {},
   "outputs": [],
   "source": [
    "sorted_features = sorted(feature_importance_dict.items(), key=lambda item: item[1], reverse=True)"
   ]
  },
  {
   "cell_type": "code",
   "execution_count": 21,
   "metadata": {},
   "outputs": [
    {
     "data": {
      "image/png": "[encoded data removed]",
      "text/plain": [
       "<Figure size 1000x800 with 1 Axes>"
      ]
     },
     "metadata": {},
     "output_type": "display_data"
    }
   ],
   "source": [
    "feature_names = [item[0] for item in sorted_features]\n",
    "importances = [item[1] for item in sorted_features]\n",
    "plt.figure(figsize=(10, 8))\n",
    "plt.barh(feature_names, importances, color='skyblue')\n",
    "plt.xlabel('Importance')\n",
    "plt.ylabel('Feature')\n",
    "plt.title('Feature Importance in Decision Tree Model')\n",
    "plt.gca().invert_yaxis() #most important at the top\n",
    "plt.show()"
   ]
  },
  {
   "cell_type": "markdown",
   "metadata": {},
   "source": [
    "See part 2 `2-pup-gpt2.ipynb` for the next steps. "
   ]
  }
 ],
 "metadata": {
  "kernelspec": {
   "display_name": "Python 3",
   "language": "python",
   "name": "python3"
  },
  "language_info": {
   "codemirror_mode": {
    "name": "ipython",
    "version": 3
   },
   "file_extension": ".py",
   "mimetype": "text/x-python",
   "name": "python",
   "nbconvert_exporter": "python",
   "pygments_lexer": "ipython3",
   "version": "3.13.1"
  }
 },
 "nbformat": 4,
 "nbformat_minor": 4
}
