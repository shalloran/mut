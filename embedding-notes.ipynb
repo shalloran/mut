{
 "cells": [
  {
   "cell_type": "code",
   "execution_count": null,
   "metadata": {},
   "outputs": [],
   "source": [
    "import requests\n",
    "\n",
    "def get_embeddings(urls):\n",
    "    api_url = \"https://api.openai.com/v1/embeddings\"\n",
    "    headers = {\n",
    "        \"Authorization\": \"Bearer YOUR_OPENAI_API_KEY\",\n",
    "        \"Content-Type\": \"application/json\",\n",
    "    }\n",
    "    # Splitting the list of URLs into smaller chunks to avoid payload size limits\n",
    "    chunk_size = 20  # Adjust based on API limits and testing\n",
    "    embeddings = []\n",
    "    for i in range(0, len(urls), chunk_size):\n",
    "        data = {\n",
    "            \"model\": \"text-embedding-ada-002\",  # Example model\n",
    "            \"input\": urls[i:i+chunk_size]\n",
    "        }\n",
    "        response = requests.post(api_url, headers=headers, json=data)\n",
    "        if response.status_code == 200:\n",
    "            embeddings.extend(response.json()['data'])\n",
    "        else:\n",
    "            print(\"Error:\", response.text)\n",
    "            break\n",
    "    return embeddings"
   ]
  },
  {
   "cell_type": "code",
   "execution_count": null,
   "metadata": {},
   "outputs": [],
   "source": [
    "# URL\n",
    "def convertURLs(df, url_column):\n",
    "    # Create a mapping from URLs to integers\n",
    "    unique_urls = pd.unique(df[url_column])\n",
    "    url_to_int = {url: i for i, url in enumerate(unique_urls)}\n",
    "    \n",
    "    # Convert URLs in the DataFrame to integers\n",
    "    df[f'{url_column}_int'] = df[url_column].map(url_to_int)\n",
    "    \n",
    "    return df\n",
    "\n",
    "df = convertURLs(df, 'URL')"
   ]
  }
 ],
 "metadata": {
  "language_info": {
   "name": "python"
  }
 },
 "nbformat": 4,
 "nbformat_minor": 2
}
